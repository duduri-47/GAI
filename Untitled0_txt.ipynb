{
  "nbformat": 4,
  "nbformat_minor": 0,
  "metadata": {
    "colab": {
      "name": "Untitled0.txt",
      "provenance": [],
      "collapsed_sections": [],
      "toc_visible": true,
      "authorship_tag": "ABX9TyOro62HRQJzSE7r4EDQ7vl7",
      "include_colab_link": true
    },
    "kernelspec": {
      "name": "python3",
      "display_name": "Python 3"
    }
  },
  "cells": [
    {
      "cell_type": "markdown",
      "metadata": {
        "id": "view-in-github",
        "colab_type": "text"
      },
      "source": [
        "<a href=\"https://colab.research.google.com/github/duduri-47/GAI/blob/master/Untitled0_txt.ipynb\" target=\"_parent\"><img src=\"https://colab.research.google.com/assets/colab-badge.svg\" alt=\"Open In Colab\"/></a>"
      ]
    },
    {
      "cell_type": "markdown",
      "metadata": {
        "id": "oYXmTbrx9CbZ",
        "colab_type": "text"
      },
      "source": [
        "# **광주 인공지능 사관학교 프리코스 과제**\n",
        "---\n",
        "## **1주차 과제**\n",
        "---\n",
        "### 1. Typecsast\n",
        "\n",
        "> 인공지능 성우 서비스인 타입캐스트는 인공지능 딥러닝 기술을 활용해 특정인의 목소리 스타일, 특징 등을 학습하여 누구든지 개성과 감성이 담긴 오디오 컨텐츠를 생성할 수 있는 서비스이다. 유튜브, 음성 안내 등의 콘텐츠 제작에서 활용성이 높고, 차후 콘텐츠 제작 비용을 감소시켜줄 수 있을 것이다.\n",
        "\n",
        "\n",
        "\n",
        "### 2. 빅스비\n",
        "\n",
        ">빅스비는 삼성전자가 자체 개발한 음성 인식 플랫폼으로, 2017년 3월 29일 공개된 삼성전자의 갤럭시 S8에 탑재된 인공지능 가상 비서이다. 삼성전자가 애플 ‘Siri’ 개발진들이 창업한 비브랩스와 삼성 내부 자사 기술을 융합하여 만들어진 서비스다.\n",
        "\n",
        "이미지 기반 서비스는 빅스비 비전이 있다. 빅스비 비전은 사진으로 외국어를 번역해주거나, 상품을 찾아준다.\n",
        "\n",
        "### 3. 구글 어시스턴트\n",
        "\n",
        "구글 어시스턴트(Google Assistant)는 구글이 개발하고 2016년 5월 자체 개발자 콘퍼런스에서 발표한 인공지능 비서이다. 구글 나우를 기반으로 쌓은 피드백으로 완성도 높은 인공지능 비서를 만들었다.  \n",
        "\n",
        "2018년 구글 I/O 개발자 컨퍼런스에서 정말 사람처럼 억양과 언어를 구사하며 미용실 예약을 하는 모습을 보여준 바 있다.\n",
        "\n",
        "### 4. \n"
      ]
    },
    {
      "cell_type": "markdown",
      "metadata": {
        "id": "r4jSOlUTQSG7",
        "colab_type": "text"
      },
      "source": [
        "# 새 섹션"
      ]
    }
  ]
}