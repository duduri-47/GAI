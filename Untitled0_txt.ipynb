{
  "nbformat": 4,
  "nbformat_minor": 0,
  "metadata": {
    "colab": {
      "name": "Untitled0.txt",
      "provenance": [],
      "collapsed_sections": [],
      "toc_visible": true,
      "authorship_tag": "ABX9TyMRGzrPNSpwU6y18GfY3Orf",
      "include_colab_link": true
    },
    "kernelspec": {
      "name": "python3",
      "display_name": "Python 3"
    }
  },
  "cells": [
    {
      "cell_type": "markdown",
      "metadata": {
        "id": "view-in-github",
        "colab_type": "text"
      },
      "source": [
        "<a href=\"https://colab.research.google.com/github/duduri-47/GAI/blob/master/Untitled0_txt.ipynb\" target=\"_parent\"><img src=\"https://colab.research.google.com/assets/colab-badge.svg\" alt=\"Open In Colab\"/></a>"
      ]
    },
    {
      "cell_type": "markdown",
      "metadata": {
        "id": "oYXmTbrx9CbZ",
        "colab_type": "text"
      },
      "source": [
        "# **광주 인공지능 사관학교 프리코스 과제**\n",
        "---\n",
        "## **1주차 과제**\n",
        "---\n",
        "### 1. Typecsast(언어)\n",
        "\n",
        "> 인공지능 성우 서비스인 타입캐스트는 인공지능 딥러닝 기술을 활용해 특정인의 목소리 스타일, 특징 등을 학습하여 누구든지 개성과 감성이 담긴 오디오 컨텐츠를 생성할 수 있는 서비스이다. 유튜브, 음성 안내 등의 콘텐츠 제작에서 활용성이 높고, 차후 콘텐츠 제작 비용을 감소시켜줄 수 있을 것이다.\n",
        "\n",
        "![타입캐.png](https://github.com/duduri-47/GAI/blob/master/%ED%83%80%EC%9E%85%EC%BA%90.PNG?raw=true)\n",
        "![타입캐2.png](https://github.com/duduri-47/GAI/blob/master/%ED%83%80%EC%9E%85%EC%BA%902.PNG?raw=true)\n",
        "\n",
        "### 2. 빅스비(음성)\n",
        "\n",
        ">빅스비는 삼성전자가 자체 개발한 음성 인식 플랫폼으로, 2017년 3월 29일 공개된 삼성전자의 갤럭시 S8에 탑재된 인공지능 가상 비서이다. 삼성전자가 애플 ‘Siri’ 개발진들이 창업한 비브랩스와 삼성 내부 자사 기술을 융합하여 만들어진 서비스다.\n",
        "\n",
        "![빅스비비전1.jpg](https://github.com/duduri-47/GAI/blob/master/%EB%B9%85%EC%8A%A4%EB%B9%84%EB%B9%84%EC%A0%841.png?raw=true)\n",
        "\n",
        "\n",
        "\n",
        "### 3. waifu2x(이미지)\n",
        "\n",
        ">딥러닝으로 통해서 이미지를 업스케일링해주는 서비스이다. 컨볼루션 신경망(CNN) 시스템을 통한 딥 러닝으로 2차원 이미지의 해상도를 개선한다. 그림뿐만 아니라 사진도 지원 한다.\n",
        "![와이프1.png](https://github.com/duduri-47/GAI/blob/master/%EC%99%80%EC%9D%B4%ED%94%841.PNG?raw=true)\n",
        "![와이프2.png](https://github.com/duduri-47/GAI/blob/master/%EC%99%80%EC%9D%B4%ED%94%842.png?raw=true)\n",
        "\n",
        "\n",
        "### 4. 테슬라 자율 주행 (자동차)\n",
        ">테슬라 자동차에서 사용되고 있는 ADAS 시스템이다.\n",
        " 테슬라는 사용자들에게 직접 자율주행 기능를 활용하고 대신 이를 감독하여 오류가 발생하면 기능을 중단시키도록 하는 방식을 사용하고 있다. 이런 방법은 더 많은 사용자들을 대상으로 데이터를 수집할 수 있어 미리 상상하기 힘든 실제의 예외 상황들에 대한 자료 수집이 가능한 방식이며, 사용자가 개입한 예외 상황을 다시 뉴럴넷의 학습 데이터로 이용하여 자율주행을 개선한다. \n",
        " ![테슬라.png](https://github.com/duduri-47/GAI/blob/master/%ED%85%8C%EC%8A%AC%EB%9D%BC.PNG?raw=true)\n"
      ]
    }
  ]
}